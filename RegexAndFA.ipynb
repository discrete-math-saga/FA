{
 "cells": [
  {
   "cell_type": "code",
   "execution_count": null,
   "metadata": {},
   "outputs": [],
   "source": [
    "import re\n",
    "import automata"
   ]
  },
  {
   "cell_type": "code",
   "execution_count": null,
   "metadata": {
    "tags": []
   },
   "outputs": [],
   "source": [
    "delta:dict[tuple[str,str],str] = {\n",
    "    ('q_0','a'):'q_2',('q_0','b'):'q_1',\n",
    "    ('q_1','a'):'q_0',('q_1','b'):'q_0',\n",
    "    ('q_2','a'):'q_0',('q_2','b'):'q_0'\n",
    "    }\n",
    "F = {'q_2'}\n",
    "length = 10\n",
    "dfa = automata.DFA('q_0',delta,F)\n",
    "success,errors = dfa.checkRegex(r'([ab][ab])*a',length)\n",
    "if not success:\n",
    "    for s in errors:\n",
    "        print(s)\n"
   ]
  },
  {
   "cell_type": "code",
   "execution_count": null,
   "metadata": {},
   "outputs": [],
   "source": [
    "delta:dict[tuple[str,str],set[str]] = {\n",
    "    ('q_0','a'):{'q_0'},('q_0','b'):{'q_0','q_1'},\n",
    "    ('q_1','a'):{'q_2'},('q_1','b'):{'q_4'},\n",
    "    ('q_2','a'):{'q_3'},('q_2','b'):{'q_2'},\n",
    "    ('q_4','a'):{'q_4'},('q_4','b'):{'q_5'}\n",
    "}\n",
    "F = {'q_3','q_5'}\n",
    "nfa = automata.NFA('q_0',delta,F)\n",
    "length=10\n",
    "#inputList = nfa.generateInput(length)\n",
    "success,errors = nfa.checkRegex(r'[ab]*b((ab*a)|(ba*b))',length)\n",
    "if not success:\n",
    "    for s in errors:\n",
    "        print(s)\n"
   ]
  },
  {
   "cell_type": "code",
   "execution_count": null,
   "metadata": {},
   "outputs": [],
   "source": [
    "m: re.Match[str] | None= re.fullmatch(r'[ab]*b((ab*a)|(ba*b))','bbaab')\n",
    "if m:\n",
    "    print(m.group(0))"
   ]
  }
 ],
 "metadata": {
  "interpreter": {
   "hash": "2322be9354d0c02ae7a563e15a3b1424506aba364738ddffa4554a9ebf410fcb"
  },
  "kernelspec": {
   "display_name": "Python 3.7.1 64-bit",
   "language": "python",
   "name": "python3"
  },
  "language_info": {
   "codemirror_mode": {
    "name": "ipython",
    "version": 3
   },
   "file_extension": ".py",
   "mimetype": "text/x-python",
   "name": "python",
   "nbconvert_exporter": "python",
   "pygments_lexer": "ipython3",
   "version": "3.9.7"
  },
  "orig_nbformat": 2
 },
 "nbformat": 4,
 "nbformat_minor": 2
}
