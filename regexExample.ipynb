{
 "cells": [
  {
   "cell_type": "code",
   "execution_count": 1,
   "metadata": {},
   "outputs": [],
   "source": [
    "import re\n",
    "import requests"
   ]
  },
  {
   "cell_type": "markdown",
   "metadata": {},
   "source": [
    "# pythonの正規表現"
   ]
  },
  {
   "cell_type": "code",
   "execution_count": null,
   "metadata": {},
   "outputs": [],
   "source": [
    "fileList: list[str]=[\n",
    "    '1.1 Introduction_20201010.txt',\n",
    "    '1.2 SetAndMappings_20211013.txt',\n",
    "    '1.3 Relations_20100401.txt'\n",
    "]\n",
    "#日付以外の部分を取り出す\n",
    "p: re.Pattern[str] = re.compile(r'(.*)_\\d{8}(\\.txt)')\n",
    "for f in fileList:\n",
    "    m: re.Match[str] | None = p.match(f)\n",
    "    if m:\n",
    "        filename: str = m.group(1)+m.group(2)\n",
    "        print(filename)"
   ]
  },
  {
   "cell_type": "code",
   "execution_count": 2,
   "metadata": {
    "tags": []
   },
   "outputs": [
    {
     "name": "stdout",
     "output_type": "stream",
     "text": [
      "20238011\n"
     ]
    }
   ],
   "source": [
    "pattern =r'\\d\\d238\\d\\d\\d'\n",
    "\n",
    "inputStr = '20238011@edu.cc.saga-u.ac.jp'\n",
    "p: re.Pattern[str] = re.compile(pattern)\n",
    "m: re.Match[str] | None = p.match(inputStr)\n",
    "if m:\n",
    "    print(m.group(0))"
   ]
  },
  {
   "cell_type": "markdown",
   "metadata": {},
   "source": [
    "## change mail domain\n",
    "Change domain to `hoge.com` if the mail domain is not `hoge.com`.\n"
   ]
  },
  {
   "cell_type": "code",
   "execution_count": 15,
   "metadata": {},
   "outputs": [
    {
     "name": "stdout",
     "output_type": "stream",
     "text": [
      "page@hoge.com\n",
      "kate@hoge.com\n",
      "s19220@hoge.com\n"
     ]
    }
   ],
   "source": [
    "mail_address_list:list[str]=[\n",
    "    'brown@example.com', 'page@hoge.com',\n",
    "    't2013@example.edu', 'kate@hoge.com',\n",
    "    's20235@foo.edu',    's19220@hoge.com'\n",
    "]\n",
    "pattern = r'(\\S+)@(\\S+)'\n",
    "p: re.Pattern[str] = re.compile(pattern)\n",
    "for mail in mail_address_list:\n",
    "    m: re.Match[str] | None = p.match(mail)\n",
    "    if m:\n",
    "        domain = m.group(2)\n",
    "        if domain == 'hoge.com':\n",
    "            new_mail = m.group(1)+'@hoge.com'\n",
    "            print(new_mail)\n"
   ]
  },
  {
   "cell_type": "code",
   "execution_count": null,
   "metadata": {},
   "outputs": [],
   "source": [
    "def getConstitution(urlStr) -> str:\n",
    "    with requests.get(urlStr) as response:\n",
    "        response.encoding='utf-8'\n",
    "        return response.text"
   ]
  },
  {
   "cell_type": "code",
   "execution_count": null,
   "metadata": {
    "tags": []
   },
   "outputs": [],
   "source": [
    "urlStr = 'https://japan.kantei.go.jp/constitution_and_government_of_japan/constitution_e.html'\n",
    "html: str = getConstitution(urlStr)\n",
    "pattern = r'Emperor '\n",
    "p: re.Pattern[str] = re.compile(pattern)\n",
    "for line in html.split('\\n'):\n",
    "    m: re.Match[str] | None = p.search(line)\n",
    "    if m:\n",
    "        print(line)\n",
    "        print('---')"
   ]
  }
 ],
 "metadata": {
  "interpreter": {
   "hash": "6b0d672cbe8d0a33fe0f78ef72c898ec07614ef49828a69cf214e8e34f4a3f57"
  },
  "kernelspec": {
   "display_name": "Python 3.7.1 64-bit",
   "language": "python",
   "name": "python3"
  },
  "language_info": {
   "codemirror_mode": {
    "name": "ipython",
    "version": 3
   },
   "file_extension": ".py",
   "mimetype": "text/x-python",
   "name": "python",
   "nbconvert_exporter": "python",
   "pygments_lexer": "ipython3",
   "version": "3.12.4"
  },
  "orig_nbformat": 2
 },
 "nbformat": 4,
 "nbformat_minor": 2
}
